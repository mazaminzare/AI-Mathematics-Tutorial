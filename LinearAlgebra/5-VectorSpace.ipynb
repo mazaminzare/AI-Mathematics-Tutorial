{
  "nbformat": 4,
  "nbformat_minor": 0,
  "metadata": {
    "colab": {
      "provenance": []
    },
    "kernelspec": {
      "name": "python3",
      "display_name": "Python 3"
    },
    "language_info": {
      "name": "python"
    }
  },
  "cells": [
    {
      "cell_type": "markdown",
      "source": [
        "# Linear Algebra In-Depth Tutorial\n",
        "\n",
        "## 5. Vector Spaces\n",
        "\n",
        "### Definition\n",
        "A vector space (or linear space) is a collection of vectors that can be added together and multiplied by scalars while satisfying certain axioms.\n",
        "\n",
        "### Axioms of Vector Spaces\n",
        "1. **Closure under Addition**: If $ \\mathbf{u} $ and $ \\mathbf{v} $ are vectors in the vector space, then $ \\mathbf{u} + \\mathbf{v} $ is also in the vector space.\n",
        "2. **Closure under Scalar Multiplication**: If $ \\mathbf{v} $ is a vector in the vector space and $ c $ is a scalar, then $ c\\mathbf{v} $ is also in the vector space.\n",
        "3. **Additive Identity**: There exists a zero vector $ \\mathbf{0} $ such that $ \\mathbf{v} + \\mathbf{0} = \\mathbf{v} $ for all vectors $ \\mathbf{v} $ in the vector space.\n",
        "4. **Additive Inverse**: For every vector $ \\mathbf{v} $ in the vector space, there exists a vector $ -\\mathbf{v} $ such that $ \\mathbf{v} + (-\\mathbf{v}) = \\mathbf{0} $.\n",
        "5. **Distributive Property**: For all scalars $ a $ and $ b $ and all vectors $ \\mathbf{u} $ and $ \\mathbf{v} $:\n",
        "   $$ a(\\mathbf{u} + \\mathbf{v}) = a\\mathbf{u} + a\\mathbf{v} $$\n",
        "   $$ (a + b)\\mathbf{v} = a\\mathbf{v} + b\\mathbf{v} $$\n",
        "6. **Associativity of Scalar Multiplication**: For all scalars $ a $ and $ b $ and all vectors $ \\mathbf{v} $:\n",
        "   $$ a(b\\mathbf{v}) = (ab)\\mathbf{v} $$\n",
        "7. **Multiplicative Identity**: For all vectors $ \\mathbf{v} $:\n",
        "   $$ 1\\mathbf{v} = \\mathbf{v} $$\n",
        "\n",
        "### Examples of Vector Spaces\n",
        "1. The set of all $ n $-tuples of real numbers $ \\mathbb{R}^n $.\n",
        "2. The set of all polynomials of a given degree.\n",
        "3. The set of all continuous functions on a given interval.\n",
        "\n",
        "### Subspaces\n",
        "A subset $ W $ of a vector space $ V $ is a subspace if $ W $ is itself a vector space under the operations of $ V $.\n",
        "\n",
        "### Numerical Example\n",
        "Consider the vector space $ \\mathbb{R}^2 $. Let $ \\mathbf{u} = \\begin{bmatrix} 1 \\\\ 2 \\end{bmatrix} $ and $ \\mathbf{v} = \\begin{bmatrix} 3 \\\\ 4 \\end{bmatrix} $ and scalar $ c = 2 $.\n",
        "\n",
        "#### Vector Addition\n",
        "$$ \\mathbf{u} + \\mathbf{v} = \\begin{bmatrix} 1 \\\\ 2 \\end{bmatrix} + \\begin{bmatrix} 3 \\\\ 4 \\end{bmatrix} = \\begin{bmatrix} 1 + 3 \\\\ 2 + 4 \\end{bmatrix} = \\begin{bmatrix} 4 \\\\ 6 \\end{bmatrix} $$\n",
        "\n",
        "#### Scalar Multiplication\n",
        "$$ c\\mathbf{u} = 2 \\begin{bmatrix} 1 \\\\ 2 \\end{bmatrix} = \\begin{bmatrix} 2 \\cdot 1 \\\\ 2 \\cdot 2 \\end{bmatrix} = \\begin{bmatrix} 2 \\\\ 4 \\end{bmatrix} $$\n"
      ],
      "metadata": {
        "id": "ve45y_LLxwk5"
      }
    },
    {
      "cell_type": "code",
      "execution_count": null,
      "metadata": {
        "colab": {
          "base_uri": "https://localhost:8080/"
        },
        "id": "C0ZVnfppxwGw",
        "outputId": "2166d585-7aac-4327-8a1b-7efa28db58c2"
      },
      "outputs": [
        {
          "output_type": "stream",
          "name": "stdout",
          "text": [
            "Vector Addition (u + v): [4 6]\n",
            "Scalar Multiplication (2 * u): [2 4]\n"
          ]
        }
      ],
      "source": [
        "# Importing numpy for numerical operations\n",
        "import numpy as np\n",
        "\n",
        "# Define vectors u and v, and scalar c\n",
        "u = np.array([1, 2])\n",
        "v = np.array([3, 4])\n",
        "c = 2\n",
        "\n",
        "# Vector addition\n",
        "addition = u + v\n",
        "\n",
        "# Scalar multiplication\n",
        "scalar_multiplication = c * u\n",
        "\n",
        "# Display results\n",
        "print(\"Vector Addition (u + v):\", addition)\n",
        "print(\"Scalar Multiplication (2 * u):\", scalar_multiplication)\n"
      ]
    }
  ]
}