{
  "nbformat": 4,
  "nbformat_minor": 0,
  "metadata": {
    "colab": {
      "provenance": []
    },
    "kernelspec": {
      "name": "python3",
      "display_name": "Python 3"
    },
    "language_info": {
      "name": "python"
    }
  },
  "cells": [
    {
      "cell_type": "markdown",
      "source": [
        "# Linear Algebra In-Depth Tutorial\n",
        "\n",
        "## 3. Determinants\n",
        "\n",
        "### Definition\n",
        "The determinant is a scalar value that can be computed from the elements of a square matrix and encodes certain properties of the matrix.\n",
        "\n",
        "### Notation\n",
        "For a $2 \\times 2$ matrix $ A = \\begin{bmatrix} a & b \\\\ c & d \\end{bmatrix} $, the determinant is:\n",
        "$$ \\text{det}(A) = ad - bc $$\n",
        "\n",
        "For a $3 \\times 3$ matrix $ A = \\begin{bmatrix} a & b & c \\\\ d & e & f \\\\ g & h & i \\end{bmatrix} $, the determinant is:\n",
        "$$ \\text{det}(A) = aei + bfg + cdh - ceg - bdi - afh $$\n",
        "\n",
        "### Numerical Example\n",
        "Consider the matrix:\n",
        "$$ A = \\begin{bmatrix} 1 & 2 \\\\ 3 & 4 \\end{bmatrix} $$\n",
        "\n",
        "#### Determinant of a $2 \\times 2$ Matrix\n",
        "Calculating the determinant:\n",
        "$$ \\text{det}(A) = 1 \\cdot 4 - 2 \\cdot 3 = 4 - 6 = -2 $$\n"
      ],
      "metadata": {
        "id": "1j4h_ar9cOHb"
      }
    },
    {
      "cell_type": "code",
      "execution_count": null,
      "metadata": {
        "colab": {
          "base_uri": "https://localhost:8080/"
        },
        "id": "Kk5wCcrxcNsn",
        "outputId": "ea732336-2855-42af-e1d6-03334bbea693"
      },
      "outputs": [
        {
          "output_type": "stream",
          "name": "stdout",
          "text": [
            "Determinant of A: -2.0000000000000004\n"
          ]
        }
      ],
      "source": [
        "# Importing numpy for numerical operations\n",
        "import numpy as np\n",
        "\n",
        "# Define matrix A\n",
        "A = np.array([[1, 2], [3, 4]])\n",
        "\n",
        "# Calculate determinant\n",
        "det_A = np.linalg.det(A)\n",
        "\n",
        "# Display result\n",
        "print(\"Determinant of A:\", det_A)\n"
      ]
    }
  ]
}