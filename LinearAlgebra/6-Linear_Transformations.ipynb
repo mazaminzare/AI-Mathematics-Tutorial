{
  "nbformat": 4,
  "nbformat_minor": 0,
  "metadata": {
    "colab": {
      "provenance": []
    },
    "kernelspec": {
      "name": "python3",
      "display_name": "Python 3"
    },
    "language_info": {
      "name": "python"
    }
  },
  "cells": [
    {
      "cell_type": "markdown",
      "source": [
        "### Linear Transformations: An In-Depth Tutorial\n",
        "\n",
        "#### Mathematical Background\n",
        "\n",
        "Linear transformations are fundamental concepts in linear algebra and are used extensively in various fields such as computer graphics, machine learning, and physics.\n",
        "\n",
        "A **linear transformation** $T$ from a vector space $V$ to a vector space $W$ is a function that satisfies two main properties for all vectors $\\mathbf{u}, \\mathbf{v} \\in V$ and all scalars $c$:\n",
        "\n",
        "1. **Additivity (or Superposition Principle):**\n",
        "   $$\n",
        "   T(\\mathbf{u} + \\mathbf{v}) = T(\\mathbf{u}) + T(\\mathbf{v})\n",
        "   $$\n",
        "2. **Homogeneity (or Scalar Multiplication):**\n",
        "   $$\n",
        "   T(c \\mathbf{u}) = c T(\\mathbf{u})\n",
        "   $$\n",
        "\n",
        "These properties ensure that the transformation $T$ preserves the structure of the vector space.\n",
        "\n",
        "##### Matrix Representation of Linear Transformations\n",
        "\n",
        "In finite-dimensional vector spaces, linear transformations can be represented using matrices. Suppose $T$ is a linear transformation from $\\mathbb{R}^n$ to $\\mathbb{R}^m$. Then there exists an $m \\times n$ matrix $A$ such that for any vector $\\mathbf{x} \\in \\mathbb{R}^n$, the transformation $T$ can be written as:\n",
        "\n",
        "$$\n",
        "T(\\mathbf{x}) = A\\mathbf{x}\n",
        "$$\n",
        "\n",
        "Here, $A$ is called the **transformation matrix** of $T$.\n",
        "\n",
        "##### Example\n",
        "\n",
        "Consider a linear transformation $T: \\mathbb{R}^2 \\to \\mathbb{R}^2$ defined by:\n",
        "\n",
        "$$\n",
        "T\\left(\\begin{bmatrix} x_1 \\\\ x_2 \\end{bmatrix}\\right) = \\begin{bmatrix} 2 & 1 \\\\ 0 & 3 \\end{bmatrix} \\begin{bmatrix} x_1 \\\\ x_2 \\end{bmatrix}\n",
        "$$\n",
        "\n",
        "The matrix representation of $T$ is:\n",
        "\n",
        "$$\n",
        "A = \\begin{bmatrix} 2 & 1 \\\\ 0 & 3 \\end{bmatrix}\n",
        "$$\n",
        "\n",
        "Let's apply $T$ to a vector $\\mathbf{x} = \\begin{bmatrix} 1 \\\\ 2 \\end{bmatrix}$:\n",
        "\n",
        "$$\n",
        "T\\left(\\begin{bmatrix} 1 \\\\ 2 \\end{bmatrix}\\right) = \\begin{bmatrix} 2 & 1 \\\\ 0 & 3 \\end{bmatrix} \\begin{bmatrix} 1 \\\\ 2 \\end{bmatrix} = \\begin{bmatrix} 2 \\cdot 1 + 1 \\cdot 2 \\\\ 0 \\cdot 1 + 3 \\cdot 2 \\end{bmatrix} = \\begin{bmatrix} 4 \\\\ 6 \\end{bmatrix}\n",
        "$$\n",
        "\n",
        "So, $T\\left(\\begin{bmatrix} 1 \\\\ 2 \\end{bmatrix}\\right) = \\begin{bmatrix} 4 \\\\ 6 \\end{bmatrix}$.\n",
        "\n",
        "##### Properties of Linear Transformations\n",
        "\n",
        "1. **Identity Transformation**: The identity transformation $I: V \\to V$ is defined by $I(\\mathbf{x}) = \\mathbf{x}$ for all $\\mathbf{x} \\in V$. Its matrix representation is the identity matrix $I_n$.\n",
        "\n",
        "2. **Zero Transformation**: The zero transformation $O: V \\to V$ is defined by $O(\\mathbf{x}) = \\mathbf{0}$ for all $\\mathbf{x} \\in V$. Its matrix representation is the zero matrix.\n",
        "\n",
        "3. **Inverse Transformation**: If $T: V \\to W$ is a bijective linear transformation, then there exists an inverse transformation $T^{-1}: W \\to V$ such that $T^{-1}(T(\\mathbf{x})) = \\mathbf{x}$ for all $\\mathbf{x} \\in V$ and $T(T^{-1}(\\mathbf{y})) = \\mathbf{y}$ for all $\\mathbf{y} \\in W$.\n",
        "\n",
        "4. **Composition of Transformations**: If $T: U \\to V$ and $S: V \\to W$ are linear transformations, then the composition $S \\circ T: U \\to W$ defined by $(S \\circ T)(\\mathbf{u}) = S(T(\\mathbf{u}))$ is also a linear transformation. The matrix representation of $S \\circ T$ is the product of the matrices representing $S$ and $T$.\n",
        "\n",
        "#### Numerical Example\n",
        "\n",
        "Let's consider a more detailed numerical example to illustrate these concepts.\n",
        "\n",
        "Suppose we have a linear transformation $T: \\mathbb{R}^3 \\to \\mathbb{R}^2$ defined by the matrix:\n",
        "\n",
        "$$\n",
        "A = \\begin{bmatrix} 1 & 2 & 3 \\\\ 4 & 5 & 6 \\end{bmatrix}\n",
        "$$\n",
        "\n",
        "We want to find the image of the vector $\\mathbf{x} = \\begin{bmatrix} 1 \\\\ 0 \\\\ -1 \\end{bmatrix}$ under the transformation $T$.\n",
        "\n",
        "$$\n",
        "T\\left(\\begin{bmatrix} 1 \\\\ 0 \\\\ -1 \\end{bmatrix}\\right) = \\begin{bmatrix} 1 & 2 & 3 \\\\ 4 & 5 & 6 \\end{bmatrix} \\begin{bmatrix} 1 \\\\ 0 \\\\ -1 \\end{bmatrix} = \\begin{bmatrix} 1 \\cdot 1 + 2 \\cdot 0 + 3 \\cdot (-1) \\\\ 4 \\cdot 1 + 5 \\cdot 0 + 6 \\cdot (-1) \\end{bmatrix} = \\begin{bmatrix} -2 \\\\ -2 \\end{bmatrix}\n",
        "$$\n",
        "\n",
        "Thus, $T\\left(\\begin{bmatrix} 1 \\\\ 0 \\\\ -1 \\end{bmatrix}\\right) = \\begin{bmatrix} -2 \\\\ -2 \\end{bmatrix}$.\n",
        "\n",
        "This example demonstrates how to apply a linear transformation to a vector using matrix multiplication.\n"
      ],
      "metadata": {
        "id": "60y-aUtTgh4J"
      }
    },
    {
      "cell_type": "code",
      "execution_count": 1,
      "metadata": {
        "id": "ySyDv0vgzgIM",
        "colab": {
          "base_uri": "https://localhost:8080/"
        },
        "outputId": "b09fbc1b-cce1-4da6-ef57-035c4da33330"
      },
      "outputs": [
        {
          "output_type": "stream",
          "name": "stdout",
          "text": [
            "Transformation matrix A:\n",
            "[[1 2 3]\n",
            " [4 5 6]]\n",
            "\n",
            "Vector x:\n",
            "[ 1  0 -1]\n",
            "\n",
            "Transformed vector T(x):\n",
            "[-2 -2]\n"
          ]
        }
      ],
      "source": [
        "import numpy as np\n",
        "\n",
        "# Define the transformation matrix A\n",
        "A = np.array([[1, 2, 3],\n",
        "              [4, 5, 6]])\n",
        "\n",
        "# Define the vector x\n",
        "x = np.array([1, 0, -1])\n",
        "\n",
        "# Perform the linear transformation\n",
        "T_x = A.dot(x)\n",
        "\n",
        "print(\"Transformation matrix A:\")\n",
        "print(A)\n",
        "print(\"\\nVector x:\")\n",
        "print(x)\n",
        "print(\"\\nTransformed vector T(x):\")\n",
        "print(T_x)\n"
      ]
    }
  ]
}