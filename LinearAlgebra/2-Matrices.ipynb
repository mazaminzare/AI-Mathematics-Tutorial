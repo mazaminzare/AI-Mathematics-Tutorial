{
  "nbformat": 4,
  "nbformat_minor": 0,
  "metadata": {
    "colab": {
      "provenance": []
    },
    "kernelspec": {
      "name": "python3",
      "display_name": "Python 3"
    },
    "language_info": {
      "name": "python"
    }
  },
  "cells": [
    {
      "cell_type": "markdown",
      "source": [
        "# Linear Algebra In-Depth Tutorial\n",
        "\n",
        "## 2. Matrices\n",
        "\n",
        "### Definition\n",
        "A matrix is a rectangular array of numbers arranged in rows and columns.\n",
        "\n",
        "### Notation\n",
        "A matrix \\( A \\) with \\( m \\) rows and \\( n \\) columns is written as:\n",
        "$$ A = \\begin{bmatrix} a_{11} & a_{12} & \\cdots & a_{1n} \\\\ a_{21} & a_{22} & \\cdots & a_{2n} \\\\ \\vdots & \\vdots & \\ddots & \\vdots \\\\ a_{m1} & a_{m2} & \\cdots & a_{mn} \\end{bmatrix} $$\n",
        "\n",
        "### Operations\n",
        "\n",
        "#### Matrix Addition\n",
        "If \\( A \\) and \\( B \\) are matrices of the same dimensions, their sum \\( A + B \\) is:\n",
        "$$ A + B = \\begin{bmatrix} a_{11} + b_{11} & a_{12} + b_{12} & \\cdots & a_{1n} + b_{1n} \\\\ a_{21} + b_{21} & a_{22} + b_{22} & \\cdots & a_{2n} + b_{2n} \\\\ \\vdots & \\vdots & \\ddots & \\vdots \\\\ a_{m1} + b_{m1} & a_{m2} + b_{m2} & \\cdots & a_{mn} + b_{mn} \\end{bmatrix} $$\n",
        "\n",
        "#### Scalar Multiplication\n",
        "If \\( c \\) is a scalar and \\( A \\) is a matrix, the scalar multiple \\( cA \\) is:\n",
        "$$ cA = \\begin{bmatrix} c \\cdot a_{11} & c \\cdot a_{12} & \\cdots & c \\cdot a_{1n} \\\\ c \\cdot a_{21} & c \\cdot a_{22} & \\cdots & c \\cdot a_{2n} \\\\ \\vdots & \\vdots & \\ddots & \\vdots \\\\ c \\cdot a_{m1} & c \\cdot a_{m2} & \\cdots & c \\cdot a_{mn} \\end{bmatrix} $$\n",
        "\n",
        "#### Matrix Multiplication\n",
        "If \\( A \\) is an \\( m $\\times$ n \\) matrix and \\( B \\) is an \\( n $\\times$ p \\) matrix, their product \\( AB \\) is an \\( m $\\times$ p \\) matrix given by:\n",
        "$$ (AB)_{ij} = \\sum_{k=1}^{n} a_{ik} b_{kj} $$\n",
        "\n",
        "### Numerical Example\n",
        "Consider the following matrices:\n",
        "$$ A = \\begin{bmatrix} 1 & 2 \\\\ 3 & 4 \\end{bmatrix}, \\quad B = \\begin{bmatrix} 5 & 6 \\\\ 7 & 8 \\end{bmatrix}, \\quad \\text{and scalar } c = 2 $$\n",
        "\n",
        "#### Matrix Addition\n",
        "Adding matrices \\( A \\) and \\( B \\):\n",
        "$$ A + B = \\begin{bmatrix} 1 & 2 \\\\ 3 & 4 \\end{bmatrix} + \\begin{bmatrix} 5 & 6 \\\\ 7 & 8 \\end{bmatrix} = \\begin{bmatrix} 1 + 5 & 2 + 6 \\\\ 3 + 7 & 4 + 8 \\end{bmatrix} = \\begin{bmatrix} 6 & 8 \\\\ 10 & 12 \\end{bmatrix} $$\n",
        "\n",
        "#### Scalar Multiplication\n",
        "Multiplying matrix \\( A \\) by scalar \\( c \\):\n",
        "$$ cA = 2 \\begin{bmatrix} 1 & 2 \\\\ 3 & 4 \\end{bmatrix} = \\begin{bmatrix} 2 \\cdot 1 & 2 \\cdot 2 \\\\ 2 \\cdot 3 & 2 \\cdot 4 \\end{bmatrix} = \\begin{bmatrix} 2 & 4 \\\\ 6 & 8 \\end{bmatrix} $$\n",
        "\n",
        "#### Matrix Multiplication\n",
        "Multiplying matrices \\( A \\) and \\( B \\):\n",
        "$$ AB = \\begin{bmatrix} 1 & 2 \\\\ 3 & 4 \\end{bmatrix} \\begin{bmatrix} 5 & 6 \\\\ 7 & 8 \\end{bmatrix} = \\begin{bmatrix} 1 \\cdot 5 + 2 \\cdot 7 & 1 \\cdot 6 + 2 \\cdot 8 \\\\ 3 \\cdot 5 + 4 \\cdot 7 & 3 \\cdot 6 + 4 \\cdot 8 \\end{bmatrix} = \\begin{bmatrix} 19 & 22 \\\\ 43 & 50 \\end{bmatrix} $$\n"
      ],
      "metadata": {
        "id": "LoEh1lvqP6AW"
      }
    },
    {
      "cell_type": "code",
      "execution_count": null,
      "metadata": {
        "colab": {
          "base_uri": "https://localhost:8080/"
        },
        "id": "i36Qqd-eO16v",
        "outputId": "f8a66004-a0e7-4c64-eca4-0aa2fcef6eec"
      },
      "outputs": [
        {
          "output_type": "stream",
          "name": "stdout",
          "text": [
            "Matrix Addition (A + B):\n",
            " [[ 6  8]\n",
            " [10 12]]\n",
            "Scalar Multiplication (2 * A):\n",
            " [[2 4]\n",
            " [6 8]]\n",
            "Matrix Multiplication (A * B):\n",
            " [[19 22]\n",
            " [43 50]]\n"
          ]
        }
      ],
      "source": [
        "# Importing numpy for numerical operations\n",
        "import numpy as np\n",
        "\n",
        "# Define matrices A and B, and scalar c\n",
        "A = np.array([[1, 2], [3, 4]])\n",
        "B = np.array([[5, 6], [7, 8]])\n",
        "c = 2\n",
        "\n",
        "# Matrix addition\n",
        "addition = A + B\n",
        "\n",
        "# Scalar multiplication\n",
        "scalar_multiplication = c * A\n",
        "\n",
        "# Matrix multiplication\n",
        "matrix_multiplication = np.dot(A, B)\n",
        "\n",
        "# Display results\n",
        "print(\"Matrix Addition (A + B):\\n\", addition)\n",
        "print(\"Scalar Multiplication (2 * A):\\n\", scalar_multiplication)\n",
        "print(\"Matrix Multiplication (A * B):\\n\", matrix_multiplication)\n"
      ]
    }
  ]
}