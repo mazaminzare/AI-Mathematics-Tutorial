{
  "nbformat": 4,
  "nbformat_minor": 0,
  "metadata": {
    "colab": {
      "provenance": []
    },
    "kernelspec": {
      "name": "python3",
      "display_name": "Python 3"
    },
    "language_info": {
      "name": "python"
    }
  },
  "cells": [
    {
      "cell_type": "markdown",
      "source": [
        "# Linear Algebra In-Depth Tutorial\n",
        "\n",
        "## 1. Vectors\n",
        "\n",
        "### Definition\n",
        "A vector is an ordered list of numbers, which can be visualized as a point in space or as an arrow pointing from the origin to that point.\n",
        "\n",
        "### Notation\n",
        "$$ \\mathbf{v} = \\begin{bmatrix} v_1 \\\\ v_2 \\\\ \\vdots \\\\ v_n \\end{bmatrix} $$\n",
        "\n",
        "### Operations\n",
        "- **Addition**:\n",
        "  $$\\mathbf{u} + \\mathbf{v} = \\begin{bmatrix} u_1 + v_1 \\\\ u_2 + v_2 \\\\ \\vdots \\\\ u_n + v_n \\end{bmatrix}$$\n",
        "- **Scalar Multiplication**:\n",
        "  $$c\\mathbf{v} = \\begin{bmatrix} c v_1 \\\\ c v_2 \\\\ \\vdots \\\\ c v_n \\end{bmatrix}$$\n",
        "\n",
        "### Dot Product\n",
        "$$ \\mathbf{u} \\cdot \\mathbf{v} = u_1 v_1 + u_2 v_2 + \\cdots + u_n v_n $$\n",
        "\n",
        "### Numerical Example\n",
        "Let's consider two vectors $\\mathbf{u}$ and $\\mathbf{v}$:\n",
        "\n",
        "$$ \\mathbf{u} = \\begin{bmatrix} 1 \\\\ 2 \\\\ 3 \\end{bmatrix}, \\quad \\mathbf{v} = \\begin{bmatrix} 4 \\\\ 5 \\\\ 6 \\end{bmatrix} $$\n",
        "\n",
        "#### Vector Addition\n",
        "Adding vectors $\\mathbf{u}$ and $\\mathbf{v}$:\n",
        "\n",
        "$$ \\mathbf{u} + \\mathbf{v} = \\begin{bmatrix} 1 \\\\ 2 \\\\ 3 \\end{bmatrix} + \\begin{bmatrix} 4 \\\\ 5 \\\\ 6 \\end{bmatrix} = \\begin{bmatrix} 1 + 4 \\\\ 2 + 5 \\\\ 3 + 6 \\end{bmatrix} = \\begin{bmatrix} 5 \\\\ 7 \\\\ 9 \\end{bmatrix} $$\n",
        "\n",
        "#### Scalar Multiplication\n",
        "Multiplying vector $\\mathbf{u}$ by scalar $3$:\n",
        "\n",
        "$$ 3\\mathbf{u} = 3 \\begin{bmatrix} 1 \\\\ 2 \\\\ 3 \\end{bmatrix} = \\begin{bmatrix} 3 \\cdot 1 \\\\ 3 \\cdot 2 \\\\ 3 \\cdot 3 \\end{bmatrix} = \\begin{bmatrix} 3 \\\\ 6 \\\\ 9 \\end{bmatrix} $$\n",
        "\n",
        "#### Dot Product\n",
        "Calculating the dot product of $\\mathbf{u}$ and $\\mathbf{v}$:\n",
        "\n",
        "$$ \\mathbf{u} \\cdot \\mathbf{v} = 1 \\cdot 4 + 2 \\cdot 5 + 3 \\cdot 6 = 4 + 10 + 18 = 32 $$\n"
      ],
      "metadata": {
        "id": "rHJvMFWPNdmu"
      }
    },
    {
      "cell_type": "code",
      "execution_count": null,
      "metadata": {
        "colab": {
          "base_uri": "https://localhost:8080/"
        },
        "id": "CsG7fQ5CNcu6",
        "outputId": "5045ad96-6844-4cc1-c977-0cc5480b73af"
      },
      "outputs": [
        {
          "output_type": "stream",
          "name": "stdout",
          "text": [
            "Vector Addition (u + v): [5 7 9]\n",
            "Scalar Multiplication (3 * u): [3 6 9]\n",
            "Dot Product (u . v): 32\n"
          ]
        }
      ],
      "source": [
        "# Importing numpy for numerical operations\n",
        "import numpy as np\n",
        "\n",
        "# Define vectors u and v\n",
        "u = np.array([1, 2, 3])\n",
        "v = np.array([4, 5, 6])\n",
        "\n",
        "# Vector addition\n",
        "addition = u + v\n",
        "\n",
        "# Scalar multiplication\n",
        "scalar = 3\n",
        "scalar_multiplication = scalar * u\n",
        "\n",
        "# Dot product\n",
        "dot_product = np.dot(u, v)\n",
        "\n",
        "# Display results\n",
        "print(\"Vector Addition (u + v):\", addition)\n",
        "print(\"Scalar Multiplication (3 * u):\", scalar_multiplication)\n",
        "print(\"Dot Product (u . v):\", dot_product)\n"
      ]
    }
  ]
}