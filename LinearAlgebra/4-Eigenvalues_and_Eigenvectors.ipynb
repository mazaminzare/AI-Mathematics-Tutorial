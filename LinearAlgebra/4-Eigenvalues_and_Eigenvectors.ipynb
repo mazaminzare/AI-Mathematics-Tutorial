{
  "nbformat": 4,
  "nbformat_minor": 0,
  "metadata": {
    "colab": {
      "provenance": []
    },
    "kernelspec": {
      "name": "python3",
      "display_name": "Python 3"
    },
    "language_info": {
      "name": "python"
    }
  },
  "cells": [
    {
      "cell_type": "markdown",
      "source": [
        "# Linear Algebra In-Depth Tutorial\n",
        "\n",
        "## 4. Eigenvalues and Eigenvectors\n",
        "\n",
        "### Definition\n",
        "For a given square matrix $ A $, an eigenvector $ \\mathbf{v} $ and its corresponding eigenvalue $ \\lambda $ satisfy the equation:\n",
        "$$ A\\mathbf{v} = \\lambda\\mathbf{v} $$\n",
        "\n",
        "### Numerical Example\n",
        "Consider the matrix:\n",
        "$$ A = \\begin{bmatrix} 2 & 1 \\\\ 1 & 2 \\end{bmatrix} $$\n",
        "\n",
        "#### Eigenvalues and Eigenvectors\n",
        "To find the eigenvalues $ \\lambda $ and eigenvectors $ \\mathbf{v} $:\n",
        "\n",
        "1. Solve the characteristic equation $ \\text{det}(A - \\lambda I) = 0 $.\n",
        "2. Find the eigenvectors corresponding to each eigenvalue.\n",
        "\n",
        "For $ A = \\begin{bmatrix} 2 & 1 \\\\ 1 & 2 \\end{bmatrix} $, the eigenvalues are $ \\lambda = 3 $ and $ \\lambda = 1 $.\n",
        "\n",
        "The corresponding eigenvectors are $ \\mathbf{v}_1 = \\begin{bmatrix} 1 \\\\ 1 \\end{bmatrix} $ for $ \\lambda = 3 $ and $ \\mathbf{v}_2 = \\begin{bmatrix} -1 \\\\ 1 \\end{bmatrix} $ for $ \\lambda = 1 $.\n"
      ],
      "metadata": {
        "id": "b1y4ntfyoLKi"
      }
    },
    {
      "cell_type": "code",
      "source": [
        "# Importing numpy for numerical operations\n",
        "import numpy as np\n",
        "\n",
        "# Define matrix A\n",
        "A = np.array([[2, 1], [1, 2]])\n",
        "\n",
        "# Calculate eigenvalues and eigenvectors\n",
        "eigenvalues, eigenvectors = np.linalg.eig(A)\n",
        "\n",
        "# Display results\n",
        "print(\"Eigenvalues of A:\", eigenvalues)\n",
        "print(\"Eigenvectors of A:\\n\", eigenvectors)\n"
      ],
      "metadata": {
        "colab": {
          "base_uri": "https://localhost:8080/"
        },
        "id": "ysHHZpH4oQM6",
        "outputId": "48e722c4-1ac0-4d76-f757-6111075d98e5"
      },
      "execution_count": null,
      "outputs": [
        {
          "output_type": "stream",
          "name": "stdout",
          "text": [
            "Eigenvalues of A: [3. 1.]\n",
            "Eigenvectors of A:\n",
            " [[ 0.70710678 -0.70710678]\n",
            " [ 0.70710678  0.70710678]]\n"
          ]
        }
      ]
    }
  ]
}