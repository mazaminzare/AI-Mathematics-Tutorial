{
  "nbformat": 4,
  "nbformat_minor": 0,
  "metadata": {
    "colab": {
      "provenance": []
    },
    "kernelspec": {
      "name": "python3",
      "display_name": "Python 3"
    },
    "language_info": {
      "name": "python"
    }
  },
  "cells": [
    {
      "cell_type": "code",
      "source": [
        "# Install necessary packages\n",
        "!pip install scikit-learn hyperopt"
      ],
      "metadata": {
        "colab": {
          "base_uri": "https://localhost:8080/"
        },
        "id": "7Y96HNFARqh1",
        "outputId": "7f75803a-c25d-47bf-e16c-a0bae4e8b7a5"
      },
      "execution_count": 4,
      "outputs": [
        {
          "output_type": "stream",
          "name": "stdout",
          "text": [
            "Requirement already satisfied: scikit-learn in /usr/local/lib/python3.10/dist-packages (1.2.2)\n",
            "Requirement already satisfied: hyperopt in /usr/local/lib/python3.10/dist-packages (0.2.7)\n",
            "Requirement already satisfied: numpy>=1.17.3 in /usr/local/lib/python3.10/dist-packages (from scikit-learn) (1.25.2)\n",
            "Requirement already satisfied: scipy>=1.3.2 in /usr/local/lib/python3.10/dist-packages (from scikit-learn) (1.11.4)\n",
            "Requirement already satisfied: joblib>=1.1.1 in /usr/local/lib/python3.10/dist-packages (from scikit-learn) (1.4.2)\n",
            "Requirement already satisfied: threadpoolctl>=2.0.0 in /usr/local/lib/python3.10/dist-packages (from scikit-learn) (3.5.0)\n",
            "Requirement already satisfied: six in /usr/local/lib/python3.10/dist-packages (from hyperopt) (1.16.0)\n",
            "Requirement already satisfied: networkx>=2.2 in /usr/local/lib/python3.10/dist-packages (from hyperopt) (3.3)\n",
            "Requirement already satisfied: future in /usr/local/lib/python3.10/dist-packages (from hyperopt) (0.18.3)\n",
            "Requirement already satisfied: tqdm in /usr/local/lib/python3.10/dist-packages (from hyperopt) (4.66.4)\n",
            "Requirement already satisfied: cloudpickle in /usr/local/lib/python3.10/dist-packages (from hyperopt) (2.2.1)\n",
            "Requirement already satisfied: py4j in /usr/local/lib/python3.10/dist-packages (from hyperopt) (0.10.9.7)\n"
          ]
        }
      ]
    },
    {
      "cell_type": "code",
      "execution_count": 5,
      "metadata": {
        "id": "5No2KCDoRoAL"
      },
      "outputs": [],
      "source": [
        "\n",
        "\n",
        "import numpy as np\n",
        "import pandas as pd\n",
        "from sklearn.datasets import load_iris\n",
        "from sklearn.model_selection import train_test_split, GridSearchCV, RandomizedSearchCV\n",
        "from sklearn.ensemble import RandomForestClassifier\n",
        "from sklearn.metrics import accuracy_score\n",
        "from hyperopt import fmin, tpe, hp, Trials, STATUS_OK\n",
        "\n",
        "# Load dataset\n",
        "data = load_iris()\n",
        "X = data.data\n",
        "y = data.target\n",
        "\n",
        "# Split data into training and test sets\n",
        "X_train, X_test, y_train, y_test = train_test_split(X, y, test_size=0.2, random_state=42)\n"
      ]
    },
    {
      "cell_type": "code",
      "source": [
        "# Grid Search\n",
        "# Define parameter grid\n",
        "param_grid = {\n",
        "    'n_estimators': [50, 100, 200],\n",
        "    'max_depth': [None, 10, 20, 30],\n",
        "    'min_samples_split': [2, 5, 10]\n",
        "}\n",
        "\n",
        "# Initialize RandomForestClassifier\n",
        "rf = RandomForestClassifier(random_state=42)\n",
        "\n",
        "# Initialize GridSearchCV\n",
        "grid_search = GridSearchCV(estimator=rf, param_grid=param_grid, cv=5, n_jobs=-1, verbose=2)\n",
        "\n",
        "# Fit GridSearchCV\n",
        "grid_search.fit(X_train, y_train)\n",
        "\n",
        "# Best parameters and score\n",
        "print(\"Best parameters found by GridSearchCV:\", grid_search.best_params_)\n",
        "print(\"Best accuracy found by GridSearchCV:\", grid_search.best_score_)\n"
      ],
      "metadata": {
        "colab": {
          "base_uri": "https://localhost:8080/"
        },
        "id": "oMijOE_5RtHo",
        "outputId": "678af252-f001-48eb-9704-582077e4c580"
      },
      "execution_count": 6,
      "outputs": [
        {
          "output_type": "stream",
          "name": "stdout",
          "text": [
            "Fitting 5 folds for each of 36 candidates, totalling 180 fits\n",
            "Best parameters found by GridSearchCV: {'max_depth': None, 'min_samples_split': 2, 'n_estimators': 200}\n",
            "Best accuracy found by GridSearchCV: 0.95\n"
          ]
        }
      ]
    },
    {
      "cell_type": "code",
      "source": [
        "# Random Search\n",
        "# Define parameter distribution\n",
        "param_dist = {\n",
        "    'n_estimators': [int(x) for x in np.linspace(start=50, stop=200, num=10)],\n",
        "    'max_depth': [None] + [int(x) for x in np.linspace(10, 30, num=10)],\n",
        "    'min_samples_split': [2, 5, 10, 15]\n",
        "}\n",
        "\n",
        "# Initialize RandomizedSearchCV\n",
        "random_search = RandomizedSearchCV(estimator=rf, param_distributions=param_dist, n_iter=100, cv=5, n_jobs=-1, verbose=2, random_state=42)\n",
        "\n",
        "# Fit RandomizedSearchCV\n",
        "random_search.fit(X_train, y_train)\n",
        "\n",
        "# Best parameters and score\n",
        "print(\"Best parameters found by RandomizedSearchCV:\", random_search.best_params_)\n",
        "print(\"Best accuracy found by RandomizedSearchCV:\", random_search.best_score_)\n"
      ],
      "metadata": {
        "colab": {
          "base_uri": "https://localhost:8080/"
        },
        "id": "Bzvyt6wvRyTl",
        "outputId": "9ba82d75-fddd-4e57-e64f-f92f63863a75"
      },
      "execution_count": 7,
      "outputs": [
        {
          "output_type": "stream",
          "name": "stdout",
          "text": [
            "Fitting 5 folds for each of 100 candidates, totalling 500 fits\n",
            "Best parameters found by RandomizedSearchCV: {'n_estimators': 133, 'min_samples_split': 10, 'max_depth': 21}\n",
            "Best accuracy found by RandomizedSearchCV: 0.95\n"
          ]
        }
      ]
    },
    {
      "cell_type": "code",
      "source": [
        "# Bayesian Optimization\n",
        "# Define the objective function\n",
        "def objective(params):\n",
        "    clf = RandomForestClassifier(**params, random_state=42)\n",
        "    clf.fit(X_train, y_train)\n",
        "    pred = clf.predict(X_test)\n",
        "    accuracy = accuracy_score(y_test, pred)\n",
        "    return {'loss': -accuracy, 'status': STATUS_OK}\n",
        "\n",
        "# Define the hyperparameter space\n",
        "space = {\n",
        "    'n_estimators': hp.choice('n_estimators', [50, 100, 200]),\n",
        "    'max_depth': hp.choice('max_depth', [None, 10, 20, 30]),\n",
        "    'min_samples_split': hp.choice('min_samples_split', [2, 5, 10])\n",
        "}\n",
        "\n",
        "# Initialize Trials object\n",
        "trials = Trials()\n",
        "\n",
        "# Run Bayesian Optimization\n",
        "best = fmin(fn=objective, space=space, algo=tpe.suggest, max_evals=100, trials=trials, rstate=np.random.default_rng(42))\n",
        "\n",
        "print(\"Best parameters found by Bayesian Optimization:\", best)\n"
      ],
      "metadata": {
        "colab": {
          "base_uri": "https://localhost:8080/"
        },
        "id": "kLYLAJ5NR3A1",
        "outputId": "3706adb4-cccc-443f-a26a-6f3ac0ae33f0"
      },
      "execution_count": 8,
      "outputs": [
        {
          "output_type": "stream",
          "name": "stdout",
          "text": [
            "100%|██████████| 100/100 [00:19<00:00,  5.24trial/s, best loss: -1.0]\n",
            "Best parameters found by Bayesian Optimization: {'max_depth': 2, 'min_samples_split': 2, 'n_estimators': 0}\n"
          ]
        }
      ]
    },
    {
      "cell_type": "code",
      "source": [
        "# Evaluation\n",
        "# Get the best models\n",
        "best_grid_model = grid_search.best_estimator_\n",
        "best_random_model = random_search.best_estimator_\n",
        "\n",
        "# Train and evaluate the best models\n",
        "best_grid_model.fit(X_train, y_train)\n",
        "best_random_model.fit(X_train, y_train)\n",
        "\n",
        "grid_pred = best_grid_model.predict(X_test)\n",
        "random_pred = best_random_model.predict(X_test)\n",
        "\n",
        "print(\"Test accuracy with GridSearchCV:\", accuracy_score(y_test, grid_pred))\n",
        "print(\"Test accuracy with RandomizedSearchCV:\", accuracy_score(y_test, random_pred))\n",
        "\n",
        "# Bayesian Optimization result\n",
        "bayes_params = {\n",
        "    'n_estimators': [50, 100, 200][best['n_estimators']],\n",
        "    'max_depth': [None, 10, 20, 30][best['max_depth']],\n",
        "    'min_samples_split': [2, 5, 10][best['min_samples_split']]\n",
        "}\n",
        "bayes_model = RandomForestClassifier(**bayes_params, random_state=42)\n",
        "bayes_model.fit(X_train, y_train)\n",
        "bayes_pred = bayes_model.predict(X_test)\n",
        "\n",
        "print(\"Test accuracy with Bayesian Optimization:\", accuracy_score(y_test, bayes_pred))\n"
      ],
      "metadata": {
        "colab": {
          "base_uri": "https://localhost:8080/"
        },
        "id": "Oyo5DfvrR73t",
        "outputId": "a88a04cb-23e7-4ee8-c003-b53d9281e130"
      },
      "execution_count": 9,
      "outputs": [
        {
          "output_type": "stream",
          "name": "stdout",
          "text": [
            "Test accuracy with GridSearchCV: 1.0\n",
            "Test accuracy with RandomizedSearchCV: 1.0\n",
            "Test accuracy with Bayesian Optimization: 1.0\n"
          ]
        }
      ]
    }
  ]
}